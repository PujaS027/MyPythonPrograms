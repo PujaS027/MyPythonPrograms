{
 "cells": [
  {
   "cell_type": "markdown",
   "metadata": {},
   "source": [
    "# TO FIND IF A NUMBER IS PRIME OR NOT"
   ]
  },
  {
   "cell_type": "code",
   "execution_count": 6,
   "metadata": {},
   "outputs": [
    {
     "name": "stdout",
     "output_type": "stream",
     "text": [
      "Enter a number: 200\n",
      "200 is divisible by 2\n",
      "200 is not a prime number\n"
     ]
    }
   ],
   "source": [
    "num=int(input(\"Enter a number: \"))  #int number can only be prime\n",
    "isDivisible= False\n",
    "\n",
    "i=2;  #loop starting from 2 to n\n",
    "while i<num:\n",
    "    if num%i==0:\n",
    "        isDivisible=True\n",
    "        print(\"{} is divisible by {}\".format(num,i))\n",
    "        break     #this break will prevent the loop from further running, as soon as it finds atleast one factor from 2 to num-1\n",
    "    i=i+1\n",
    "\n",
    "if isDivisible:\n",
    "    print(\"{} is not a prime number\".format(num))\n",
    "else:\n",
    "    print(\"{} is a prime number\".format(num))"
   ]
  },
  {
   "cell_type": "markdown",
   "metadata": {},
   "source": [
    "\n",
    "# TO FIND PRODUCT OF ALL NUMBERS IN A LIST"
   ]
  },
  {
   "cell_type": "code",
   "execution_count": 7,
   "metadata": {},
   "outputs": [
    {
     "name": "stdout",
     "output_type": "stream",
     "text": [
      "Product of the numbers is 720000000\n"
     ]
    }
   ],
   "source": [
    "lst=[10,20,30,40,50,60]\n",
    "\n",
    "product=1\n",
    "for ele in lst:\n",
    "    product=product*ele\n",
    "\n",
    "print(\"Product of the numbers is {}\".format(product))\n"
   ]
  },
  {
   "cell_type": "markdown",
   "metadata": {},
   "source": [
    "\n",
    "# TO DISPLAY ALL PRIME NUMBERS WITHIN AN INTERVAL"
   ]
  },
  {
   "cell_type": "code",
   "execution_count": 8,
   "metadata": {},
   "outputs": [
    {
     "name": "stdout",
     "output_type": "stream",
     "text": [
      "Prime numbers between 10 and 100 are: \n",
      "11\n",
      "13\n",
      "17\n",
      "19\n",
      "23\n",
      "29\n",
      "31\n",
      "37\n",
      "41\n",
      "43\n",
      "47\n",
      "53\n",
      "59\n",
      "61\n",
      "67\n",
      "71\n",
      "73\n",
      "79\n",
      "83\n",
      "89\n",
      "97\n"
     ]
    }
   ],
   "source": [
    "up_index=10\n",
    "down_index=100\n",
    "\n",
    "print(\"Prime numbers between {} and {} are: \".format(up_index,down_index))  \n",
    "\n",
    "for num in range(up_index,down_index+1):    #default step size=1, interval=10 to 101,num starting as 10\n",
    "    if num>1:\n",
    "        isDivisible=False\n",
    "        for index in range(2,num):     #inner interval 2 to 9\n",
    "            if num%index==0:           #if 10 gets divided by any number from 2 to 9,it is composite,else prime\n",
    "                isDivisible=True\n",
    "        if not isDivisible:\n",
    "            print(num)\n",
    "        \n",
    "    #num=11, index=2, no number from 2 to 9 divide 11, hence 11 is prime. Next number 12 considered and same step followed"
   ]
  }
 ],
 "metadata": {
  "kernelspec": {
   "display_name": "Python 3",
   "language": "python",
   "name": "python3"
  },
  "language_info": {
   "codemirror_mode": {
    "name": "ipython",
    "version": 3
   },
   "file_extension": ".py",
   "mimetype": "text/x-python",
   "name": "python",
   "nbconvert_exporter": "python",
   "pygments_lexer": "ipython3",
   "version": "3.7.6"
  }
 },
 "nbformat": 4,
 "nbformat_minor": 4
}
